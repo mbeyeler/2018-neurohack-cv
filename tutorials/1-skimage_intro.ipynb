{
 "cells": [
  {
   "cell_type": "markdown",
   "metadata": {
    "deletable": true,
    "editable": true
   },
   "source": [
    "<div style='font-size: 150%; line-height: 2;'>\n",
    "To participate, you'll need to git clone (or download the .zip from GitHub):\n",
    "\n",
    "<p>https://github.com/mbeyeler/2018-neurohack-skimage</p>\n",
    "</div>\n",
    "\n",
    "<p>You can do that in git using:</p>\n",
    "\n",
    "<pre>git clone --depth=1 https://github.com/mbeyeler/2018-neurohack-skimage</pre>\n",
    "\n",
    "<div style='font-size: 150%; line-height: 1.5;'>\n",
    "If you have already cloned the material, please issue `git pull` now and reload the notebook to ensure that you have the latest updates.\n",
    "</div>"
   ]
  },
  {
   "cell_type": "code",
   "execution_count": null,
   "metadata": {
    "collapsed": true,
    "deletable": true,
    "editable": true
   },
   "outputs": [],
   "source": [
    "%matplotlib inline"
   ]
  },
  {
   "cell_type": "markdown",
   "metadata": {
    "deletable": true,
    "editable": true
   },
   "source": [
    "# Images are NumPy arrays"
   ]
  },
  {
   "cell_type": "markdown",
   "metadata": {
    "deletable": true,
    "editable": true
   },
   "source": [
    "Images are represented in ``scikit-image`` using standard ``numpy`` arrays.  This allows maximum inter-operability with other libraries in the scientific Python ecosystem, such as ``matplotlib`` and ``scipy``.\n",
    "\n",
    "Let's see how to build a grayscale image as a 2D array:"
   ]
  },
  {
   "cell_type": "code",
   "execution_count": null,
   "metadata": {
    "collapsed": false,
    "deletable": true,
    "editable": true
   },
   "outputs": [],
   "source": [
    "import numpy as np\n",
    "from matplotlib import pyplot as plt\n",
    "\n",
    "random_image = np.random.random([500, 500])\n",
    "\n",
    "plt.imshow(random_image, cmap='gray')\n",
    "plt.colorbar();"
   ]
  },
  {
   "cell_type": "markdown",
   "metadata": {
    "deletable": true,
    "editable": true
   },
   "source": [
    "The same holds for \"real-world\" images:"
   ]
  },
  {
   "cell_type": "code",
   "execution_count": null,
   "metadata": {
    "collapsed": false,
    "deletable": true,
    "editable": true
   },
   "outputs": [],
   "source": [
    "from skimage import data\n",
    "\n",
    "coins = data.coins()\n",
    "\n",
    "print('Type:', type(coins))\n",
    "print('dtype:', coins.dtype)\n",
    "print('shape:', coins.shape)\n",
    "\n",
    "plt.imshow(coins, cmap='gray');"
   ]
  },
  {
   "cell_type": "markdown",
   "metadata": {
    "deletable": true,
    "editable": true
   },
   "source": [
    "A color image is a 3D array, where the last dimension has size 3 and represents the red, green, and blue channels:"
   ]
  },
  {
   "cell_type": "code",
   "execution_count": null,
   "metadata": {
    "collapsed": false,
    "deletable": true,
    "editable": true
   },
   "outputs": [],
   "source": [
    "cat = data.chelsea()\n",
    "print(\"Shape:\", cat.shape)\n",
    "print(\"Values min/max:\", cat.min(), cat.max())\n",
    "\n",
    "plt.imshow(cat);"
   ]
  },
  {
   "cell_type": "markdown",
   "metadata": {
    "deletable": true,
    "editable": true
   },
   "source": [
    "## Exercise: Draw a red square on the image\n",
    "\n",
    "These are *just NumPy arrays*. E.g., we can make a red square by using standard array slicing and manipulation.\n",
    "\n"
   ]
  },
  {
   "cell_type": "code",
   "execution_count": null,
   "metadata": {
    "collapsed": false,
    "deletable": true,
    "editable": true
   },
   "outputs": [],
   "source": [
    "cat[10:110, 10:110, :] = [255, 0, 0]  # [red, green, blue]\n",
    "plt.imshow(cat);"
   ]
  },
  {
   "cell_type": "markdown",
   "metadata": {
    "deletable": true,
    "editable": true
   },
   "source": [
    "Images can also include transparent regions by adding a 4th dimension, called an *alpha layer*."
   ]
  },
  {
   "cell_type": "markdown",
   "metadata": {
    "deletable": true,
    "editable": true
   },
   "source": [
    "### Other shapes, and their meanings\n",
    "\n",
    "|Image type|Coordinates|\n",
    "|:---|:---|\n",
    "|2D grayscale|(row, column)|\n",
    "|2D multichannel|(row, column, channel)|\n",
    "|3D grayscale (or volumetric) |(plane, row, column)|\n",
    "|3D multichannel|(plane, row, column, channel)|"
   ]
  },
  {
   "cell_type": "markdown",
   "metadata": {
    "deletable": true,
    "editable": true
   },
   "source": [
    "## Displaying images using matplotlib"
   ]
  },
  {
   "cell_type": "code",
   "execution_count": null,
   "metadata": {
    "collapsed": true,
    "deletable": true,
    "editable": true
   },
   "outputs": [],
   "source": [
    "from skimage import data\n",
    "\n",
    "img0 = data.chelsea()\n",
    "img1 = data.rocket()"
   ]
  },
  {
   "cell_type": "code",
   "execution_count": null,
   "metadata": {
    "collapsed": false,
    "deletable": true,
    "editable": true
   },
   "outputs": [],
   "source": [
    "import matplotlib.pyplot as plt\n",
    "\n",
    "f, (ax0, ax1) = plt.subplots(ncols=2, figsize=(20, 10))\n",
    "\n",
    "ax0.imshow(img0)\n",
    "ax0.set_title('Cat', fontsize=18)\n",
    "ax0.axis('off')\n",
    "\n",
    "ax1.imshow(img1)\n",
    "ax1.set_title('Rocket', fontsize=18)\n",
    "ax1.set_xlabel(r'Launching position $\\alpha=320$')\n",
    "\n",
    "ax1.vlines([202, 450], 0, img1.shape[0], colors='white', linewidth=3, label='Side tower position')\n",
    "\n",
    "ax1.legend();"
   ]
  },
  {
   "cell_type": "markdown",
   "metadata": {},
   "source": [
    "## Drawing"
   ]
  },
  {
   "cell_type": "code",
   "execution_count": null,
   "metadata": {
    "collapsed": false
   },
   "outputs": [],
   "source": [
    "from skimage import draw\n",
    "\n",
    "# Draw a circle with radius 50 at (200, 150):\n",
    "r, c = draw.circle(200, 150, 50)\n",
    "# Change only the green channel:\n",
    "img1[r, c, 1] = 255\n",
    "\n",
    "plt.imshow(img1)"
   ]
  },
  {
   "cell_type": "markdown",
   "metadata": {
    "deletable": true,
    "editable": true
   },
   "source": [
    "For more on plotting, see the [Matplotlib documentation](https://matplotlib.org/gallery/index.html#images-contours-and-fields) and [pyplot API](https://matplotlib.org/api/pyplot_summary.html)."
   ]
  },
  {
   "cell_type": "markdown",
   "metadata": {
    "deletable": true,
    "editable": true
   },
   "source": [
    "## Data types and image values\n",
    "\n",
    "In literature, one finds different conventions for representing image values:\n",
    "\n",
    "```\n",
    "  0 - 255   where  0 is black, 255 is white\n",
    "  0 - 1     where  0 is black, 1 is white\n",
    "```\n",
    "\n",
    "``scikit-image`` supports both conventions--the choice is determined by the\n",
    "data-type of the array.\n",
    "\n",
    "E.g., here, I generate two valid images:"
   ]
  },
  {
   "cell_type": "code",
   "execution_count": null,
   "metadata": {
    "collapsed": false,
    "deletable": true,
    "editable": true
   },
   "outputs": [],
   "source": [
    "linear0 = np.linspace(0, 1, 2500).reshape((50, 50))\n",
    "linear1 = np.linspace(0, 255, 2500).reshape((50, 50)).astype(np.uint8)\n",
    "\n",
    "print(\"Linear0:\", linear0.dtype, linear0.min(), linear0.max())\n",
    "print(\"Linear1:\", linear1.dtype, linear1.min(), linear1.max())\n",
    "\n",
    "fig, (ax0, ax1) = plt.subplots(1, 2, figsize=(15, 15))\n",
    "ax0.imshow(linear0, cmap='gray')\n",
    "ax1.imshow(linear1, cmap='gray');"
   ]
  },
  {
   "cell_type": "markdown",
   "metadata": {
    "deletable": true,
    "editable": true
   },
   "source": [
    "The library is designed in such a way that any data-type is allowed as input,\n",
    "as long as the range is correct (0-1 for floating point images, 0-255 for unsigned bytes,\n",
    "0-65535 for unsigned 16-bit integers)."
   ]
  },
  {
   "cell_type": "markdown",
   "metadata": {
    "deletable": true,
    "editable": true
   },
   "source": [
    "You can convert images between different representations by using ``img_as_float``, ``img_as_ubyte``, etc.:"
   ]
  },
  {
   "cell_type": "code",
   "execution_count": null,
   "metadata": {
    "collapsed": false,
    "deletable": true,
    "editable": true
   },
   "outputs": [],
   "source": [
    "from skimage import img_as_float, img_as_ubyte\n",
    "\n",
    "image = data.chelsea()\n",
    "\n",
    "image_ubyte = img_as_ubyte(image)\n",
    "image_float = img_as_float(image)\n",
    "\n",
    "print(\"type, min, max:\", image_ubyte.dtype, image_ubyte.min(), image_ubyte.max())\n",
    "print(\"type, min, max:\", image_float.dtype, image_float.min(), image_float.max())\n",
    "print()\n",
    "print(\"231/255 =\", 231/255.)"
   ]
  },
  {
   "cell_type": "markdown",
   "metadata": {
    "deletable": true,
    "editable": true
   },
   "source": [
    "Your code would then typically look like this:\n",
    "\n",
    "```python\n",
    "def my_function(any_image):\n",
    "   float_image = img_as_float(any_image)\n",
    "   # Proceed, knowing image is in [0, 1]\n",
    "```\n",
    "\n",
    "We recommend using the floating point representation, given that\n",
    "``scikit-image`` mostly uses that format internally."
   ]
  },
  {
   "cell_type": "markdown",
   "metadata": {
    "deletable": true,
    "editable": true
   },
   "source": [
    "## Image I/O\n",
    "\n",
    "Mostly, we won't be using input images from the scikit-image example data sets.  Those images are typically stored in JPEG or PNG format.  Since scikit-image operates on NumPy arrays, *any* image reader library that provides arrays will do.  Options include imageio, matplotlib, pillow, etc.\n",
    "\n",
    "scikit-image conveniently wraps many of these in the `io` submodule, and will use whichever of the libraries mentioned above are installed:"
   ]
  },
  {
   "cell_type": "code",
   "execution_count": null,
   "metadata": {
    "collapsed": false,
    "deletable": true,
    "editable": true
   },
   "outputs": [],
   "source": [
    "from skimage import io\n",
    "\n",
    "image = io.imread('../img/skimage-logo.png')\n",
    "\n",
    "print(type(image))\n",
    "print(image.dtype)\n",
    "print(image.shape)\n",
    "print(image.min(), image.max())\n",
    "\n",
    "plt.imshow(image);"
   ]
  },
  {
   "cell_type": "markdown",
   "metadata": {
    "deletable": true,
    "editable": true
   },
   "source": [
    "We also have the ability to load multiple images, or multi-layer TIFF images:"
   ]
  },
  {
   "cell_type": "code",
   "execution_count": null,
   "metadata": {
    "collapsed": false,
    "deletable": true,
    "editable": true
   },
   "outputs": [],
   "source": [
    "ic = io.ImageCollection('../img/*.jpg')\n",
    "\n",
    "print('Type:', type(ic))\n",
    "\n",
    "ic.files"
   ]
  },
  {
   "cell_type": "markdown",
   "metadata": {
    "deletable": true,
    "editable": true
   },
   "source": [
    "# <span class=\"exercize\">Exercise: Visualizing RGB channels</span>\n",
    "\n",
    "Display the different color channels of the image along (each as a gray-scale image).  Start with the following template:"
   ]
  },
  {
   "cell_type": "code",
   "execution_count": null,
   "metadata": {
    "collapsed": false,
    "deletable": true,
    "editable": true
   },
   "outputs": [],
   "source": [
    "# --- read in the image ---\n",
    "\n",
    "image = io.imread('../img/skimage-logo.png')\n",
    "\n",
    "# --- assign each color channel to a different variable ---\n",
    "\n",
    "r = ...\n",
    "g = ...\n",
    "b = ...\n",
    "\n",
    "# --- display the image and r, g, b channels ---\n",
    "\n",
    "f, axes = plt.subplots(1, 4, figsize=(16, 5))\n",
    "\n",
    "for ax in axes:\n",
    "    ax.axis('off')\n",
    "\n",
    "(ax_r, ax_g, ax_b, ax_color) = axes\n",
    "    \n",
    "ax_r.imshow(r, cmap='gray')\n",
    "ax_r.set_title('red channel')\n",
    "\n",
    "ax_g.imshow(g, cmap='gray')\n",
    "ax_g.set_title('green channel')\n",
    "\n",
    "ax_b.imshow(b, cmap='gray')\n",
    "ax_b.set_title('blue channel')\n",
    "\n",
    "# --- Here, we stack the R, G, and B layers again\n",
    "#     to form a color image ---\n",
    "ax_color.imshow(np.stack([r, g, b], axis=2))\n",
    "ax_color.set_title('all channels');"
   ]
  },
  {
   "cell_type": "markdown",
   "metadata": {
    "deletable": true,
    "editable": true
   },
   "source": [
    "Now, take a look at the following R, G, and B channels.  How would their combination look? (Write some code to confirm your intuition.)"
   ]
  },
  {
   "cell_type": "code",
   "execution_count": null,
   "metadata": {
    "collapsed": true
   },
   "outputs": [],
   "source": []
  }
 ],
 "metadata": {
  "kernelspec": {
   "display_name": "Python 3",
   "language": "python",
   "name": "python3"
  },
  "language_info": {
   "codemirror_mode": {
    "name": "ipython",
    "version": 3
   },
   "file_extension": ".py",
   "mimetype": "text/x-python",
   "name": "python",
   "nbconvert_exporter": "python",
   "pygments_lexer": "ipython3",
   "version": "3.5.2"
  }
 },
 "nbformat": 4,
 "nbformat_minor": 1
}
